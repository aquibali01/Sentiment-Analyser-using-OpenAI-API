{
  "nbformat": 4,
  "nbformat_minor": 0,
  "metadata": {
    "colab": {
      "provenance": []
    },
    "kernelspec": {
      "name": "python3",
      "display_name": "Python 3"
    },
    "language_info": {
      "name": "python"
    }
  },
  "cells": [
    {
      "cell_type": "markdown",
      "source": [
        "## **Sentiment Anaylysis**"
      ],
      "metadata": {
        "id": "I2CxnYgumuue"
      }
    },
    {
      "cell_type": "code",
      "execution_count": null,
      "metadata": {
        "id": "IXtAC0y7TgXQ"
      },
      "outputs": [],
      "source": [
        "#installing library\n",
        "!pip install openai"
      ]
    },
    {
      "cell_type": "code",
      "source": [
        "\n",
        "# Sentiment Analysis function\n",
        "\n",
        "#importing openai library\n",
        "import openai\n",
        "\n",
        "#Give your API Key here\n",
        "openai.api_key = \"Your_API_Key\"\n",
        "\n",
        "#defining the function\n",
        "def sentiment_analysis(text):\n",
        "  messages = [\n",
        "      {\"role\":\"system\", \"content\": \"you are required to act as an expert in sentiment analysis and detection of analysis in the given text\"},\n",
        "      {\"role\": \"user\", \"content\" : f\"Can you please provide me with sentiment of the {text} either: positive or negative in just single word?\"}\n",
        "  ]\n",
        "\n",
        "  response = openai.ChatCompletion.create(\n",
        "      model = \"gpt-3.5-turbo\",\n",
        "      messages= messages,\n",
        "      max_tokens = 1,\n",
        "      n = 1,\n",
        "      stop = None,\n",
        "      temperature = 0\n",
        "      )\n",
        "\n",
        "  response_text = response.choices[0].message.content.strip().lower()\n",
        "\n",
        "  return response_text\n"
      ],
      "metadata": {
        "id": "sshkrivwm4J2"
      },
      "execution_count": null,
      "outputs": []
    },
    {
      "cell_type": "markdown",
      "source": [
        "### **Positive Sentiment check**"
      ],
      "metadata": {
        "id": "6udrp4QNm-PH"
      }
    },
    {
      "cell_type": "code",
      "source": [
        "# calling the sentiment function\n",
        "\n",
        "text = \"I love the buttons of the laptop I can type smoothly\"\n",
        "\n",
        "sentiment = sentiment_analysis(text)\n",
        "print(text, \": The Sentiment is\",sentiment )"
      ],
      "metadata": {
        "id": "mvr3_H4Mm88_"
      },
      "execution_count": null,
      "outputs": []
    },
    {
      "cell_type": "markdown",
      "source": [
        "### **Negative Sentiment check**"
      ],
      "metadata": {
        "id": "4SjhzMIlnC9E"
      }
    },
    {
      "cell_type": "code",
      "source": [
        "# calling the sentiment function\n",
        "\n",
        "text = \"Delivery time of the product was so bad and the product was broken from the top So disgusted\"\n",
        "\n",
        "sentiment = sentiment_analysis(text)\n",
        "print(text, \": The Sentiment is\",sentiment )"
      ],
      "metadata": {
        "id": "7u2pF4lmnIVh"
      },
      "execution_count": null,
      "outputs": []
    }
  ]
}